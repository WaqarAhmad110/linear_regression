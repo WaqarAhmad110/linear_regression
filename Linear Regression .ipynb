{
 "cells": [
  {
   "cell_type": "markdown",
   "id": "96306cce-e486-4ee9-be00-668a9d7c8695",
   "metadata": {},
   "source": [
    "# Define Linear Regression:\n",
    "Linear regression is a supervised machine learning algorithm that predicts a continuous target variable based on one or more independent variables. It assumes a linear relationship between the dependent and independent variables and uses a linear equation to model this relationship.\n",
    "Why do we use linear regression?\n",
    "Linear regression is commonly used for:\n",
    "•\tPredicting numerical values based on input features\n",
    "•\tForecasting future trends based on historical data\n",
    "•\tIdentifying correlations between variables\n",
    "•\tUnderstanding the impact of different factors on a particular outcome\n",
    "# How to use linear regression?\n",
    "Use linear regression by fitting a line to predict the relationship between variables, understanding coefficients, and making predictions based on input values for informed decision-making.\n",
    "# Why is it called linear regression?\n",
    "Linear regression is named for its use of a linear equation to model the relationship between variables, representing a straight line fit to the data points.\n",
    "# What are linear regression examples?\n",
    "Predicting house prices based on square footage, estimating exam scores from study hours, and forecasting sales using advertising spending are examples of linear regression applications.\n",
    "\n",
    "When there is only one independent feature, it is known as simple linear regression\n",
    "When there is more than one independent feature, it is known as multiple linear regression\n",
    "When there is only one dependent variable, it is considered univariate linear regression.\n",
    "When there are more than one dependent variables, it is known as multivariate regression.\n",
    "\n",
    "# Simple Linear Regression\n",
    "This is the simplest form of linear regression, and it involves only one independent variable and one dependent variable. The equation for simple linear regression is:\n",
    "y = β0 + β1X\n",
    "where:\n",
    "•\tY is the dependent variable\n",
    "•\tX is the independent variable\n",
    "•\tβ0 is the intercept\n",
    "•\tβ1 is the slope\n",
    "\n",
    "# Multiple Linear Regression\n",
    "This involves more than one independent variable and one dependent variable. The equation for multiple linear regression is:\n",
    "y = β0+β1X1+β2X2+………βnXny=β0+β1X1+β2X2+………βnXn\n",
    "where:\n",
    "•\tY is the dependent variable\n",
    "•\tX1, X2, …, Xn are the independent variables\n",
    "•\tβ0 is the intercept\n",
    "•\tβ1, β2, …, βn are the slopes\n"
   ]
  },
  {
   "cell_type": "code",
   "execution_count": 4,
   "id": "857b9c61-bd9c-45d8-b48a-d5dcfb7286dd",
   "metadata": {
    "scrolled": true
   },
   "outputs": [
    {
     "name": "stdout",
     "output_type": "stream",
     "text": [
      "Mean Squared Error: 3.5943877551020296\n",
      "R-squared: 0.4865160349854244\n"
     ]
    }
   ],
   "source": [
    "from sklearn.linear_model import LinearRegression\n",
    "from sklearn.model_selection import train_test_split\n",
    "from sklearn.metrics import mean_squared_error, r2_score\n",
    "X = [[1], [2], [3], [4], [5], [6], [7], [8], [9], [10]]\n",
    "y = [2, 4, 5, 4, 5, 7, 8, 8, 10, 12]\n",
    "\n",
    "X_train, X_test, y_train, y_test = train_test_split(X, y, test_size=0.6, random_state=42)\n",
    "model = LinearRegression()\n",
    "model.fit(X_train, y_train)\n",
    "y_pred = model.predict(X_test)\n",
    "\n",
    "print(\"Mean Squared Error:\", mean_squared_error(y_test, y_pred))\n",
    "print(\"R-squared:\", r2_score(y_test, y_pred))\n"
   ]
  },
  {
   "cell_type": "markdown",
   "id": "79869e21-a251-4445-bbad-f3fa20f97842",
   "metadata": {},
   "source": [
    "You have a dataset where:\n",
    "Independent Variable (X): Square footage of houses.\n",
    "Dependent Variable (y): Prices of houses.\n"
   ]
  },
  {
   "cell_type": "code",
   "execution_count": 6,
   "id": "1f0c79f4-d40c-4c0e-8eb7-4d45507547c2",
   "metadata": {},
   "outputs": [
    {
     "name": "stdout",
     "output_type": "stream",
     "text": [
      "Mean Squared Error: 4.235164736271502e-22\n",
      "R-squared: 1.0\n",
      "Predicted price for 1800 sq ft: 230000.0\n"
     ]
    }
   ],
   "source": [
    "from sklearn.linear_model import LinearRegression\n",
    "from sklearn.model_selection import train_test_split\n",
    "from sklearn.metrics import mean_squared_error, r2_score\n",
    "\n",
    "X = [[1000], [1500], [2000], [2500], [3000]]  \n",
    "y = [150000, 200000, 250000, 300000, 350000]  \n",
    "\n",
    "X_train, X_test, y_train, y_test = train_test_split(X, y, test_size=0.4, random_state=42)\n",
    "\n",
    "model = LinearRegression()\n",
    "model.fit(X_train, y_train)\n",
    "\n",
    "y_pred = model.predict(X_test)\n",
    "\n",
    "mse = mean_squared_error(y_test, y_pred)\n",
    "r2 = r2_score(y_test, y_pred)\n",
    "\n",
    "print(\"Mean Squared Error:\", mse)\n",
    "print(\"R-squared:\", r2)\n",
    "\n",
    "new_square_footage = [[1800]]\n",
    "predicted_price = model.predict(new_square_footage)\n",
    "print(\"Predicted price for 1800 sq ft:\", predicted_price[0])\n"
   ]
  },
  {
   "cell_type": "markdown",
   "id": "957ba7f1-fca9-499f-bbfd-e8ec971328f0",
   "metadata": {},
   "source": [
    "In this example, we'll predict the exam scores based on the study hours using Linear Regression."
   ]
  },
  {
   "cell_type": "code",
   "execution_count": 7,
   "id": "3fdf04ac-c6f3-4297-b3b0-a3e74847bb2f",
   "metadata": {},
   "outputs": [
    {
     "name": "stdout",
     "output_type": "stream",
     "text": [
      "Mean Squared Error: 0.0\n",
      "R-squared: 1.0\n",
      "Predicted score for 6.5 hours of study: 77.5\n"
     ]
    }
   ],
   "source": [
    "from sklearn.linear_model import LinearRegression\n",
    "from sklearn.model_selection import train_test_split\n",
    "from sklearn.metrics import mean_squared_error, r2_score\n",
    "\n",
    "X = [[1], [2], [3], [4], [5], [6], [7], [8], [9], [10]]  \n",
    "y = [50, 55, 60, 65, 70, 75, 80, 85, 90, 95]  \n",
    "\n",
    "X_train, X_test, y_train, y_test = train_test_split(X, y, test_size=0.2, random_state=42)\n",
    "\n",
    "model = LinearRegression()\n",
    "model.fit(X_train, y_train)\n",
    "\n",
    "y_pred = model.predict(X_test)\n",
    "\n",
    "mse = mean_squared_error(y_test, y_pred)\n",
    "r2 = r2_score(y_test, y_pred)\n",
    "\n",
    "print(\"Mean Squared Error:\", mse)\n",
    "print(\"R-squared:\", r2)\n",
    "\n",
    "study_hours = [[6.5]]\n",
    "predicted_score = model.predict(study_hours)\n",
    "print(\"Predicted score for 6.5 hours of study:\", predicted_score[0])\n"
   ]
  },
  {
   "cell_type": "markdown",
   "id": "ecdef4dd-fffb-41b5-bdef-3e989659e2de",
   "metadata": {},
   "source": [
    "In this example, we'll predict the sales of a company based on advertising spending using Linear Regression."
   ]
  },
  {
   "cell_type": "code",
   "execution_count": 8,
   "id": "32eff833-eb45-4573-9a8b-2e4a8bb8bc68",
   "metadata": {},
   "outputs": [
    {
     "name": "stdout",
     "output_type": "stream",
     "text": [
      "Mean Squared Error: 5.679798517591285e-29\n",
      "R-squared: 1.0\n",
      "Predicted sales for 850 units of advertising spending: 85.0\n"
     ]
    }
   ],
   "source": [
    "from sklearn.linear_model import LinearRegression\n",
    "from sklearn.model_selection import train_test_split\n",
    "from sklearn.metrics import mean_squared_error, r2_score\n",
    "\n",
    "X = [[100], [200], [300], [400], [500], [600], [700], [800], [900], [1000]]  # Advertising spending (independent variable)\n",
    "y = [10, 20, 30, 40, 50, 60, 70, 80, 90, 100]  # Sales (dependent variable)\n",
    "\n",
    "X_train, X_test, y_train, y_test = train_test_split(X, y, test_size=0.2, random_state=42)\n",
    "\n",
    "model = LinearRegression()\n",
    "model.fit(X_train, y_train)\n",
    "y_pred = model.predict(X_test)\n",
    "\n",
    "mse = mean_squared_error(y_test, y_pred)\n",
    "r2 = r2_score(y_test, y_pred)\n",
    "print(\"Mean Squared Error:\", mse)\n",
    "print(\"R-squared:\", r2)\n",
    "ad_spending = [[850]]\n",
    "predicted_sales = model.predict(ad_spending)\n",
    "print(\"Predicted sales for 850 units of advertising spending:\", predicted_sales[0])\n"
   ]
  },
  {
   "cell_type": "code",
   "execution_count": 9,
   "id": "5e675f71-2f15-45fa-835f-10879f2a6267",
   "metadata": {},
   "outputs": [
    {
     "name": "stdout",
     "output_type": "stream",
     "text": [
      "Test Data (House Sizes): [800]\n",
      "Actual Prices: [200]\n",
      "Predicted Prices: [212.73584906]\n"
     ]
    },
    {
     "data": {
      "image/png": "[encoded data removed]",
      "text/plain": [
       "<Figure size 640x480 with 1 Axes>"
      ]
     },
     "metadata": {},
     "output_type": "display_data"
    }
   ],
   "source": [
    "import numpy as np\n",
    "import matplotlib.pyplot as plt\n",
    "from sklearn.linear_model import LinearRegression\n",
    "from sklearn.model_selection import train_test_split\n",
    "\n",
    "house_sizes = np.array([500, 800, 1000, 1200, 1500]).reshape(-1, 1)  \n",
    "house_prices = np.array([150, 200, 250, 300, 375])                  \n",
    "\n",
    "X_train, X_test, y_train, y_test = train_test_split(house_sizes, house_prices, test_size=0.2, random_state=42)\n",
    "\n",
    "model = LinearRegression()\n",
    "model.fit(X_train, y_train)\n",
    "predictions = model.predict(X_test)\n",
    "\n",
    "print(\"Test Data (House Sizes):\", X_test.flatten())\n",
    "print(\"Actual Prices:\", y_test)\n",
    "print(\"Predicted Prices:\", predictions)\n",
    "plt.scatter(house_sizes, house_prices, color='blue', label='Actual Data')\n",
    "plt.plot(house_sizes, model.predict(house_sizes), color='red', label='Regression Line')\n",
    "plt.xlabel('Size (sqft)')\n",
    "plt.ylabel('Price ($1000s)')\n",
    "plt.legend()\n",
    "plt.show()\n"
   ]
  }
 ],
 "metadata": {
  "kernelspec": {
   "display_name": "Python 3 (ipykernel)",
   "language": "python",
   "name": "python3"
  },
  "language_info": {
   "codemirror_mode": {
    "name": "ipython",
    "version": 3
   },
   "file_extension": ".py",
   "mimetype": "text/x-python",
   "name": "python",
   "nbconvert_exporter": "python",
   "pygments_lexer": "ipython3",
   "version": "3.12.6"
  }
 },
 "nbformat": 4,
 "nbformat_minor": 5
}
